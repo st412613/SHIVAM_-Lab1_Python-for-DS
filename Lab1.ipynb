{
 "cells": [
  {
   "cell_type": "code",
   "execution_count": 1,
   "id": "2f05a0e5",
   "metadata": {},
   "outputs": [],
   "source": [
    "import mysql.connector\n",
    "import pandas as pd"
   ]
  },
  {
   "cell_type": "code",
   "execution_count": 2,
   "id": "cf1a13ec",
   "metadata": {},
   "outputs": [],
   "source": [
    "connection = mysql.connector.connect(host = \"localhost\",\n",
    "                                     user = \"root\",\n",
    "                                     passwd = \"shivam12\")\n",
    "cursorObj = connection.cursor()"
   ]
  },
  {
   "cell_type": "code",
   "execution_count": 3,
   "id": "729f2267",
   "metadata": {},
   "outputs": [],
   "source": [
    "createDB = \"\"\"CREATE DATABASE e_commerce\"\"\"\n",
    "\n",
    "cursorObj.execute(createDB)"
   ]
  },
  {
   "cell_type": "code",
   "execution_count": 4,
   "id": "9ae0155f",
   "metadata": {},
   "outputs": [],
   "source": [
    "connection = mysql.connector.connect(host =\"localhost\",\n",
    "                                     user =\"root\",\n",
    "                                     passwd =\"shivam12\",\n",
    "                                     database = 'e_commerce')\n",
    " \n",
    "## creating a cursor object\n",
    "\n",
    "cursorObj = connection.cursor()"
   ]
  },
  {
   "cell_type": "code",
   "execution_count": 5,
   "id": "b274c9ad",
   "metadata": {},
   "outputs": [],
   "source": [
    "table_creation_query = \"\"\"CREATE TABLE supplier(SUPP_ID int primary key, SUPP_NAME varchar(50), SUPP_CITY varchar(50), SUPP_PHONE varchar(10));\n",
    "                          CREATE TABLE customer(CUS_ID INT NOT NULL, CUS_NAME VARCHAR(20) NULL DEFAULT NULL, CUS_PHONE VARCHAR(10), CUS_CITY varchar(30) ,CUS_GENDER CHAR,PRIMARY KEY (CUS_ID));\n",
    "                          CREATE TABLE category(CAT_ID INT NOT NULL, CAT_NAME VARCHAR(20) NULL DEFAULT NULL,PRIMARY KEY (CAT_ID));\n",
    "                          CREATE TABLE product(PRO_ID INT NOT NULL, PRO_NAME VARCHAR(20) NULL DEFAULT NULL, PRO_DESC VARCHAR(60) NULL DEFAULT NULL, CAT_ID INT NOT NULL,PRIMARY KEY (PRO_ID),FOREIGN KEY (CAT_ID) REFERENCES CATEGORY (CAT_ID));\n",
    "                          CREATE TABLE product_details(PROD_ID INT NOT NULL, PRO_ID INT NOT NULL, SUPP_ID INT NOT NULL, PROD_PRICE INT NOT NULL, PRIMARY KEY (PROD_ID),FOREIGN KEY (PRO_ID) REFERENCES PRODUCT (PRO_ID), FOREIGN KEY (SUPP_ID) REFERENCES SUPPLIER(SUPP_ID));\n",
    "                          CREATE TABLE order_details(ORD_ID INT NOT NULL, ORD_AMOUNT INT NOT NULL, ORD_DATE DATE, CUS_ID INT NOT NULL, PROD_ID INT NOT NULL,PRIMARY KEY (ORD_ID),FOREIGN KEY (CUS_ID) REFERENCES CUSTOMER(CUS_ID),FOREIGN KEY (PROD_ID) REFERENCES PRODUCT_DETAILS(PROD_ID));\n",
    "                          CREATE TABLE rating(RAT_ID INT NOT NULL, CUS_ID INT NOT NULL, SUPP_ID INT NOT NULL, RAT_RATSTARS INT NOT NULL,PRIMARY KEY (RAT_ID),FOREIGN KEY (SUPP_ID) REFERENCES SUPPLIER (SUPP_ID),FOREIGN KEY (CUS_ID) REFERENCES CUSTOMER(CUS_ID));\"\"\"\n",
    "cursorObj.execute(table_creation_query)"
   ]
  },
  {
   "cell_type": "code",
   "execution_count": 6,
   "id": "60ebec88",
   "metadata": {},
   "outputs": [],
   "source": [
    "connection.close()\n",
    "\n",
    "connection = mysql.connector.connect(host =\"localhost\",\n",
    "                                     user =\"root\",\n",
    "                                     passwd =\"shivam\",\n",
    "                                     database = 'e_commerce')\n",
    " \n",
    "## creating a cursor object\n",
    "\n",
    "cursorObj = connection.cursor()"
   ]
  },
  {
   "cell_type": "code",
   "execution_count": 7,
   "id": "bd64719b",
   "metadata": {},
   "outputs": [],
   "source": [
    "# insert into \"supplier\" table\n",
    "insert_supplier = \"\"\"INSERT INTO supplier (SUPP_ID , SUPP_NAME, SUPP_CITY, SUPP_PHONE)VALUES(%s, %s, %s, %s)\"\"\"\n",
    "\n",
    "val = [(1,'Rajesh Retails', 'Delhi',1234567890),(2,'Appario Ltd.', 'Mumbai',8963147032),(3,'Knome products', 'Bangalore',9785462315),(4,'Bansal Retails', 'Kochi', 8975463285),(5,'Mittal Ltd.', 'Lucknow', 7898456532)]\n",
    "\n",
    "cursorObj.executemany(insert_supplier, val)\n",
    "connection.commit()"
   ]
  },
  {
   "cell_type": "code",
   "execution_count": 8,
   "id": "d23a4679",
   "metadata": {},
   "outputs": [],
   "source": [
    "# insert into \"customer\" table\n",
    "\n",
    "insert_customer = \"\"\"INSERT INTO customer (CUS_ID , CUS_NAME, CUS_PHONE, CUS_CITY, CUS_GENDER)VALUES (%s, %s, %s, %s, %s)\"\"\"\n",
    "\n",
    "val = [(1,'AKASH',1234567890, 'Delhi', 'M'),\n",
    "       (2,'AMAN',1614322387, 'NOIDA', 'M'),\n",
    "       (3,'NEHA',1871614322, 'Mumbai', 'F'),\n",
    "       (4,'MEGHA', 1000614322, 'KOLKATA', 'F'),\n",
    "       (5,'PULKIT', 1614322551, 'Lucknow','M')]\n",
    "   \n",
    "cursorObj.executemany(insert_customer, val)\n",
    "connection.commit()"
   ]
  },
  {
   "cell_type": "code",
   "execution_count": 9,
   "id": "b4498c71",
   "metadata": {},
   "outputs": [],
   "source": [
    "# insert into \"categoty\" table\n",
    "insert_category = \"\"\" INSERT INTO category (CAT_ID, CAT_NAME) \n",
    "                        VALUES \n",
    "                        (1, 'BOOKS'),\n",
    "                        (2, 'GAMES'),\n",
    "                        (3, 'GROCERIES'),\n",
    "                        (4, 'ELECTRONICS'),\n",
    "                        (5, 'CLOTHES');\"\"\"\n",
    "\n",
    "cursorObj.execute(insert_category)\n",
    "connection.commit()"
   ]
  },
  {
   "cell_type": "code",
   "execution_count": 10,
   "id": "2e337916",
   "metadata": {},
   "outputs": [],
   "source": [
    "# Inserting Values into \"product\" table\n",
    "\n",
    "insert_query = \"INSERT INTO product (PRO_ID, PRO_NAME, PRO_DESC, CAT_ID) VALUES (%s, %s, %s, %s)\"\n",
    "val = [(1,\"GTA V\",\"DFJDJFDJFDJFDJFJF\",2),\n",
    "       (2,\"TSHIRT\",\"DFDFJDFJDKFD\",5),\n",
    "       (3,\"ROG LAPTOP\",\"DFNTTNTNTERND\",4),\n",
    "       (4,\"OATS\",\"REURENTBTOTH\",3),\n",
    "       (5,\"HARRY POTTER\",\"NBEMCTHTJTH\",1)]\n",
    "\n",
    "\n",
    "cursorObj.executemany(insert_query, val)\n",
    "connection.commit()"
   ]
  },
  {
   "cell_type": "code",
   "execution_count": 11,
   "id": "186bca81",
   "metadata": {},
   "outputs": [],
   "source": [
    "# insert into \"product_details\" table\n",
    "insert_product_details = \"INSERT INTO product_details( PROD_ID, PRO_ID, SUPP_ID, PROD_PRICE)VALUES (%s, %s, %s, %s)\"\n",
    "val = [(1,1,2,1500),\n",
    "       (2,3,5,30000),\n",
    "       (3,5,1,3000),\n",
    "       (4,2,3,2500),\n",
    "       (5,4,1,1000)]\n",
    "\n",
    "\n",
    "cursorObj.executemany(insert_product_details, val)\n",
    "connection.commit()"
   ]
  },
  {
   "cell_type": "code",
   "execution_count": 12,
   "id": "137959db",
   "metadata": {},
   "outputs": [],
   "source": [
    "# insert into \"orders\" table\n",
    "insert_query = \"INSERT INTO order_details (ORD_ID, ORD_AMOUNT, ORD_DATE, CUS_ID, PROD_ID) VALUES (%s, %s, %s, %s, %s)\"\n",
    "val = [(20,1500,\"2021-10-12\",3,5),\n",
    "       (25,30500,\"2021-09-16\",5,2),\n",
    "       (26,2000,\"2021-10-05\",1,1),\n",
    "       (30,3500,\"2021-08-16\",4,3),\n",
    "       (50,2000,\"2021-10-06\",2,1)]\n",
    "\n",
    "\n",
    "cursorObj.executemany(insert_query, val)\n",
    "connection.commit()"
   ]
  },
  {
   "cell_type": "code",
   "execution_count": 13,
   "id": "92b63567",
   "metadata": {},
   "outputs": [],
   "source": [
    "# insert into \"rating\" table\n",
    "insert_query = \"INSERT INTO rating (RAT_ID, CUS_ID, SUPP_ID, RAT_RATSTARS) VALUES (%s, %s, %s, %s)\"\n",
    "val = [(1,2,2,4),\n",
    "       (2,3,4,3),\n",
    "       (3,5,1,5),\n",
    "       (4,1,3,2),\n",
    "       (5,4,5,4)]\n",
    "\n",
    "\n",
    "cursorObj.executemany(insert_query, val)\n",
    "connection.commit()"
   ]
  },
  {
   "cell_type": "code",
   "execution_count": 14,
   "id": "ae904214",
   "metadata": {},
   "outputs": [
    {
     "data": {
      "text/html": [
       "<div>\n",
       "<style scoped>\n",
       "    .dataframe tbody tr th:only-of-type {\n",
       "        vertical-align: middle;\n",
       "    }\n",
       "\n",
       "    .dataframe tbody tr th {\n",
       "        vertical-align: top;\n",
       "    }\n",
       "\n",
       "    .dataframe thead th {\n",
       "        text-align: right;\n",
       "    }\n",
       "</style>\n",
       "<table border=\"1\" class=\"dataframe\">\n",
       "  <thead>\n",
       "    <tr style=\"text-align: right;\">\n",
       "      <th></th>\n",
       "      <th>Number_of_customers</th>\n",
       "      <th>gender</th>\n",
       "    </tr>\n",
       "  </thead>\n",
       "  <tbody>\n",
       "    <tr>\n",
       "      <th>0</th>\n",
       "      <td>1</td>\n",
       "      <td>M</td>\n",
       "    </tr>\n",
       "    <tr>\n",
       "      <th>1</th>\n",
       "      <td>1</td>\n",
       "      <td>F</td>\n",
       "    </tr>\n",
       "  </tbody>\n",
       "</table>\n",
       "</div>"
      ],
      "text/plain": [
       "   Number_of_customers gender\n",
       "0                    1      M\n",
       "1                    1      F"
      ]
     },
     "execution_count": 14,
     "metadata": {},
     "output_type": "execute_result"
    }
   ],
   "source": [
    "Query3 = \"\"\"select count(c.CUS_ID) as Number_of_customers, c.CUS_GENDER as gender from customer c \n",
    "            right join\n",
    "            (select CUS_ID,ORD_AMOUNT from order_details where ORD_AMOUNT>= 3000) as o\n",
    "            on c.cus_id = o.CUS_ID group by CUS_GENDER;\"\"\"\n",
    "\n",
    "cursorObj.execute(Query3)\n",
    "\n",
    "output = cursorObj.fetchall()\n",
    "\n",
    "output_df = pd.DataFrame(output, columns=['Number_of_customers','gender'])\n",
    "output_df"
   ]
  },
  {
   "cell_type": "code",
   "execution_count": 15,
   "id": "9d71389c",
   "metadata": {},
   "outputs": [
    {
     "data": {
      "text/html": [
       "<div>\n",
       "<style scoped>\n",
       "    .dataframe tbody tr th:only-of-type {\n",
       "        vertical-align: middle;\n",
       "    }\n",
       "\n",
       "    .dataframe tbody tr th {\n",
       "        vertical-align: top;\n",
       "    }\n",
       "\n",
       "    .dataframe thead th {\n",
       "        text-align: right;\n",
       "    }\n",
       "</style>\n",
       "<table border=\"1\" class=\"dataframe\">\n",
       "  <thead>\n",
       "    <tr style=\"text-align: right;\">\n",
       "      <th></th>\n",
       "      <th>Customer_Id</th>\n",
       "      <th>Order_Id</th>\n",
       "      <th>Amount</th>\n",
       "      <th>Date</th>\n",
       "      <th>Product Name</th>\n",
       "    </tr>\n",
       "  </thead>\n",
       "  <tbody>\n",
       "    <tr>\n",
       "      <th>0</th>\n",
       "      <td>2</td>\n",
       "      <td>50</td>\n",
       "      <td>2000</td>\n",
       "      <td>2021-10-06</td>\n",
       "      <td>GTA V</td>\n",
       "    </tr>\n",
       "  </tbody>\n",
       "</table>\n",
       "</div>"
      ],
      "text/plain": [
       "   Customer_Id  Order_Id  Amount        Date Product Name\n",
       "0            2        50    2000  2021-10-06        GTA V"
      ]
     },
     "execution_count": 15,
     "metadata": {},
     "output_type": "execute_result"
    }
   ],
   "source": [
    "Query4 = \"\"\"select o.cus_id, o.ORD_ID, o.ORD_AMOUNT, o.ORD_DATE, pro.pro_name from order_details o \n",
    "            inner join\n",
    "            (select p.pro_name, pd.prod_id from product p \n",
    "            inner join \n",
    "            product_details pd on p.PRO_ID = pd.PRO_ID ) as pro \n",
    "            on o.prod_id = pro.PROD_ID having o.cus_id = 2;\"\"\"\n",
    "\n",
    "cursorObj.execute(Query4)\n",
    "\n",
    "output = cursorObj.fetchall()\n",
    "\n",
    "output_df = pd.DataFrame(output, columns=['Customer_Id','Order_Id', 'Amount', 'Date', 'Product Name'])\n",
    "output_df"
   ]
  },
  {
   "cell_type": "code",
   "execution_count": 16,
   "id": "8cade0a2",
   "metadata": {},
   "outputs": [
    {
     "data": {
      "text/html": [
       "<div>\n",
       "<style scoped>\n",
       "    .dataframe tbody tr th:only-of-type {\n",
       "        vertical-align: middle;\n",
       "    }\n",
       "\n",
       "    .dataframe tbody tr th {\n",
       "        vertical-align: top;\n",
       "    }\n",
       "\n",
       "    .dataframe thead th {\n",
       "        text-align: right;\n",
       "    }\n",
       "</style>\n",
       "<table border=\"1\" class=\"dataframe\">\n",
       "  <thead>\n",
       "    <tr style=\"text-align: right;\">\n",
       "      <th></th>\n",
       "      <th>Supplier Id</th>\n",
       "      <th>Supplier Name</th>\n",
       "      <th>Supplier City</th>\n",
       "      <th>Supplier Phone</th>\n",
       "    </tr>\n",
       "  </thead>\n",
       "  <tbody>\n",
       "    <tr>\n",
       "      <th>0</th>\n",
       "      <td>1</td>\n",
       "      <td>Rajesh Retails</td>\n",
       "      <td>Delhi</td>\n",
       "      <td>1234567890</td>\n",
       "    </tr>\n",
       "  </tbody>\n",
       "</table>\n",
       "</div>"
      ],
      "text/plain": [
       "   Supplier Id   Supplier Name Supplier City Supplier Phone\n",
       "0            1  Rajesh Retails         Delhi     1234567890"
      ]
     },
     "execution_count": 16,
     "metadata": {},
     "output_type": "execute_result"
    }
   ],
   "source": [
    "Query5 = \"\"\"SELECT  sp.SUPP_ID, sp.SUPP_NAME, sp.SUPP_CITY, sp.SUPP_PHONE  FROM supplier AS sp\n",
    "            INNER JOIN \n",
    "            (SELECT distinct SUPP_ID FROM product_details p\n",
    "            GROUP BY SUPP_ID HAVING COUNT(SUPP_ID) > 1  ) as sd\n",
    "            ON sp.SUPP_ID = sd.SUPP_ID;\"\"\"\n",
    "\n",
    "cursorObj.execute(Query5)\n",
    "\n",
    "output = cursorObj.fetchall()\n",
    "\n",
    "output_df = pd.DataFrame(output, columns=['Supplier Id','Supplier Name', 'Supplier City', 'Supplier Phone'])\n",
    "output_df"
   ]
  },
  {
   "cell_type": "code",
   "execution_count": 17,
   "id": "1ea1f829",
   "metadata": {},
   "outputs": [
    {
     "data": {
      "text/html": [
       "<div>\n",
       "<style scoped>\n",
       "    .dataframe tbody tr th:only-of-type {\n",
       "        vertical-align: middle;\n",
       "    }\n",
       "\n",
       "    .dataframe tbody tr th {\n",
       "        vertical-align: top;\n",
       "    }\n",
       "\n",
       "    .dataframe thead th {\n",
       "        text-align: right;\n",
       "    }\n",
       "</style>\n",
       "<table border=\"1\" class=\"dataframe\">\n",
       "  <thead>\n",
       "    <tr style=\"text-align: right;\">\n",
       "      <th></th>\n",
       "      <th>CATEGORY ID</th>\n",
       "      <th>CATEGORY NAME</th>\n",
       "    </tr>\n",
       "  </thead>\n",
       "  <tbody>\n",
       "    <tr>\n",
       "      <th>0</th>\n",
       "      <td>3</td>\n",
       "      <td>GROCERIES</td>\n",
       "    </tr>\n",
       "  </tbody>\n",
       "</table>\n",
       "</div>"
      ],
      "text/plain": [
       "   CATEGORY ID CATEGORY NAME\n",
       "0            3     GROCERIES"
      ]
     },
     "execution_count": 17,
     "metadata": {},
     "output_type": "execute_result"
    }
   ],
   "source": [
    "Query6 = \"\"\"select c.CAT_ID, c.CAT_NAME from category c \n",
    "            inner join \n",
    "            product p on c.CAT_ID = p.CAT_ID \n",
    "            inner join \n",
    "            product_details pd on p.PRO_ID = pd.PRO_ID \n",
    "            inner join \n",
    "            order_details o on o.PROD_ID = pd.PROD_ID \n",
    "            where ORD_AMOUNT in (select min(ORD_AMOUNT ) from order_details);\"\"\"\n",
    "\n",
    "cursorObj.execute(Query6)\n",
    "\n",
    "output = cursorObj.fetchall()\n",
    "\n",
    "output_df = pd.DataFrame(output, columns=['CATEGORY ID','CATEGORY NAME'])\n",
    "output_df"
   ]
  },
  {
   "cell_type": "code",
   "execution_count": 18,
   "id": "bd21777c",
   "metadata": {},
   "outputs": [
    {
     "data": {
      "text/html": [
       "<div>\n",
       "<style scoped>\n",
       "    .dataframe tbody tr th:only-of-type {\n",
       "        vertical-align: middle;\n",
       "    }\n",
       "\n",
       "    .dataframe tbody tr th {\n",
       "        vertical-align: top;\n",
       "    }\n",
       "\n",
       "    .dataframe thead th {\n",
       "        text-align: right;\n",
       "    }\n",
       "</style>\n",
       "<table border=\"1\" class=\"dataframe\">\n",
       "  <thead>\n",
       "    <tr style=\"text-align: right;\">\n",
       "      <th></th>\n",
       "      <th>PRODUCT ID</th>\n",
       "      <th>PRODUCT NAME</th>\n",
       "    </tr>\n",
       "  </thead>\n",
       "  <tbody>\n",
       "    <tr>\n",
       "      <th>0</th>\n",
       "      <td>5</td>\n",
       "      <td>OATS</td>\n",
       "    </tr>\n",
       "    <tr>\n",
       "      <th>1</th>\n",
       "      <td>1</td>\n",
       "      <td>GTA V</td>\n",
       "    </tr>\n",
       "  </tbody>\n",
       "</table>\n",
       "</div>"
      ],
      "text/plain": [
       "   PRODUCT ID PRODUCT NAME\n",
       "0           5         OATS\n",
       "1           1        GTA V"
      ]
     },
     "execution_count": 18,
     "metadata": {},
     "output_type": "execute_result"
    }
   ],
   "source": [
    "query7 = \"\"\"select o.PROD_ID, p.PRO_NAME from order_details o \n",
    "            inner join \n",
    "            product_details pd on o.PROD_ID = pd.PROD_ID\n",
    "            inner join \n",
    "            product p on p.PRO_ID = pd.PRO_ID where ORD_DATE > '2021-10-05';\"\"\"\n",
    "\n",
    "cursorObj.execute(query7)\n",
    "\n",
    "output = cursorObj.fetchall()\n",
    "\n",
    "output_df = pd.DataFrame(output, columns=['PRODUCT ID','PRODUCT NAME'])\n",
    "output_df"
   ]
  },
  {
   "cell_type": "code",
   "execution_count": 19,
   "id": "c47d9b78",
   "metadata": {},
   "outputs": [
    {
     "data": {
      "text/html": [
       "<div>\n",
       "<style scoped>\n",
       "    .dataframe tbody tr th:only-of-type {\n",
       "        vertical-align: middle;\n",
       "    }\n",
       "\n",
       "    .dataframe tbody tr th {\n",
       "        vertical-align: top;\n",
       "    }\n",
       "\n",
       "    .dataframe thead th {\n",
       "        text-align: right;\n",
       "    }\n",
       "</style>\n",
       "<table border=\"1\" class=\"dataframe\">\n",
       "  <thead>\n",
       "    <tr style=\"text-align: right;\">\n",
       "      <th></th>\n",
       "      <th>SUPPLIER ID</th>\n",
       "      <th>SUPPLIER NAME</th>\n",
       "      <th>CUSOMER NAME</th>\n",
       "      <th>RATINGS</th>\n",
       "    </tr>\n",
       "  </thead>\n",
       "  <tbody>\n",
       "    <tr>\n",
       "      <th>0</th>\n",
       "      <td>1</td>\n",
       "      <td>Rajesh Retails</td>\n",
       "      <td>PULKIT</td>\n",
       "      <td>5</td>\n",
       "    </tr>\n",
       "    <tr>\n",
       "      <th>1</th>\n",
       "      <td>2</td>\n",
       "      <td>Appario Ltd.</td>\n",
       "      <td>AMAN</td>\n",
       "      <td>4</td>\n",
       "    </tr>\n",
       "    <tr>\n",
       "      <th>2</th>\n",
       "      <td>5</td>\n",
       "      <td>Mittal Ltd.</td>\n",
       "      <td>MEGHA</td>\n",
       "      <td>4</td>\n",
       "    </tr>\n",
       "  </tbody>\n",
       "</table>\n",
       "</div>"
      ],
      "text/plain": [
       "   SUPPLIER ID   SUPPLIER NAME CUSOMER NAME  RATINGS\n",
       "0            1  Rajesh Retails       PULKIT        5\n",
       "1            2    Appario Ltd.         AMAN        4\n",
       "2            5     Mittal Ltd.        MEGHA        4"
      ]
     },
     "execution_count": 19,
     "metadata": {},
     "output_type": "execute_result"
    }
   ],
   "source": [
    "Query8=     \"\"\"select s.SUPP_ID  , s.SUPP_NAME, c.CUS_NAME, r.RAT_RATSTARS from supplier s\n",
    "               inner join rating r on s.SUPP_ID = r.SUPP_ID\n",
    "               inner join customer c on r.CUS_ID = c.CUS_ID order by r.RAT_RATSTARS desc limit 3\"\"\"\n",
    "\n",
    "cursorObj.execute(Query8)\n",
    "output = cursorObj.fetchall()\n",
    "\n",
    "output_df = pd.DataFrame(output, columns=['SUPPLIER ID','SUPPLIER NAME','CUSOMER NAME','RATINGS'])\n",
    "output_df"
   ]
  },
  {
   "cell_type": "code",
   "execution_count": 20,
   "id": "e9995c4f",
   "metadata": {},
   "outputs": [
    {
     "data": {
      "text/html": [
       "<div>\n",
       "<style scoped>\n",
       "    .dataframe tbody tr th:only-of-type {\n",
       "        vertical-align: middle;\n",
       "    }\n",
       "\n",
       "    .dataframe tbody tr th {\n",
       "        vertical-align: top;\n",
       "    }\n",
       "\n",
       "    .dataframe thead th {\n",
       "        text-align: right;\n",
       "    }\n",
       "</style>\n",
       "<table border=\"1\" class=\"dataframe\">\n",
       "  <thead>\n",
       "    <tr style=\"text-align: right;\">\n",
       "      <th></th>\n",
       "      <th>CUSTOMER NAME</th>\n",
       "      <th>GENDER</th>\n",
       "    </tr>\n",
       "  </thead>\n",
       "  <tbody>\n",
       "  </tbody>\n",
       "</table>\n",
       "</div>"
      ],
      "text/plain": [
       "Empty DataFrame\n",
       "Columns: [CUSTOMER NAME, GENDER]\n",
       "Index: []"
      ]
     },
     "execution_count": 20,
     "metadata": {},
     "output_type": "execute_result"
    }
   ],
   "source": [
    "Query9 = \"\"\"select CUS_NAME, CUS_GENDER FROM customer WHERE CUS_NAME like 'A%A';\"\"\"\n",
    "\n",
    "cursorObj.execute(Query9)\n",
    "output = cursorObj.fetchall()\n",
    "\n",
    "output_df = pd.DataFrame(output, columns=['CUSTOMER NAME', 'GENDER'])\n",
    "output_df"
   ]
  },
  {
   "cell_type": "code",
   "execution_count": 21,
   "id": "c00e8b7d",
   "metadata": {},
   "outputs": [
    {
     "name": "stdout",
     "output_type": "stream",
     "text": [
      "Amount is  [(Decimal('34500'),)]\n"
     ]
    }
   ],
   "source": [
    "Query10=  \"\"\"select sum(o.ord_amount) as Amount from `order_details` o \n",
    "             inner join customer c on o.cus_id = c.cus_id where c.cus_gender='M';\"\"\"\n",
    "\n",
    "cursorObj.execute(Query10)\n",
    "output = cursorObj.fetchall()\n",
    "\n",
    "print(\"Amount is \",output);"
   ]
  },
  {
   "cell_type": "code",
   "execution_count": 22,
   "id": "6ae5bf1c",
   "metadata": {},
   "outputs": [
    {
     "data": {
      "text/html": [
       "<div>\n",
       "<style scoped>\n",
       "    .dataframe tbody tr th:only-of-type {\n",
       "        vertical-align: middle;\n",
       "    }\n",
       "\n",
       "    .dataframe tbody tr th {\n",
       "        vertical-align: top;\n",
       "    }\n",
       "\n",
       "    .dataframe thead th {\n",
       "        text-align: right;\n",
       "    }\n",
       "</style>\n",
       "<table border=\"1\" class=\"dataframe\">\n",
       "  <thead>\n",
       "    <tr style=\"text-align: right;\">\n",
       "      <th></th>\n",
       "      <th>CUSTOMER ID</th>\n",
       "      <th>CUSTOMER NAME</th>\n",
       "      <th>PHONE NUMBER</th>\n",
       "      <th>CITY</th>\n",
       "      <th>GENDER</th>\n",
       "      <th>ORDER ID</th>\n",
       "      <th>AMOUNT</th>\n",
       "      <th>DATE</th>\n",
       "      <th>PRODUCT ID</th>\n",
       "    </tr>\n",
       "  </thead>\n",
       "  <tbody>\n",
       "    <tr>\n",
       "      <th>0</th>\n",
       "      <td>1</td>\n",
       "      <td>AKASH</td>\n",
       "      <td>1234567890</td>\n",
       "      <td>Delhi</td>\n",
       "      <td>M</td>\n",
       "      <td>26</td>\n",
       "      <td>2000</td>\n",
       "      <td>2021-10-05</td>\n",
       "      <td>1</td>\n",
       "    </tr>\n",
       "    <tr>\n",
       "      <th>1</th>\n",
       "      <td>2</td>\n",
       "      <td>AMAN</td>\n",
       "      <td>1614322387</td>\n",
       "      <td>NOIDA</td>\n",
       "      <td>M</td>\n",
       "      <td>50</td>\n",
       "      <td>2000</td>\n",
       "      <td>2021-10-06</td>\n",
       "      <td>1</td>\n",
       "    </tr>\n",
       "    <tr>\n",
       "      <th>2</th>\n",
       "      <td>3</td>\n",
       "      <td>NEHA</td>\n",
       "      <td>1871614322</td>\n",
       "      <td>Mumbai</td>\n",
       "      <td>F</td>\n",
       "      <td>20</td>\n",
       "      <td>1500</td>\n",
       "      <td>2021-10-12</td>\n",
       "      <td>5</td>\n",
       "    </tr>\n",
       "    <tr>\n",
       "      <th>3</th>\n",
       "      <td>4</td>\n",
       "      <td>MEGHA</td>\n",
       "      <td>1000614322</td>\n",
       "      <td>KOLKATA</td>\n",
       "      <td>F</td>\n",
       "      <td>30</td>\n",
       "      <td>3500</td>\n",
       "      <td>2021-08-16</td>\n",
       "      <td>3</td>\n",
       "    </tr>\n",
       "    <tr>\n",
       "      <th>4</th>\n",
       "      <td>5</td>\n",
       "      <td>PULKIT</td>\n",
       "      <td>1614322551</td>\n",
       "      <td>Lucknow</td>\n",
       "      <td>M</td>\n",
       "      <td>25</td>\n",
       "      <td>30500</td>\n",
       "      <td>2021-09-16</td>\n",
       "      <td>2</td>\n",
       "    </tr>\n",
       "  </tbody>\n",
       "</table>\n",
       "</div>"
      ],
      "text/plain": [
       "   CUSTOMER ID CUSTOMER NAME PHONE NUMBER     CITY GENDER  ORDER ID  AMOUNT  \\\n",
       "0            1         AKASH   1234567890    Delhi      M        26    2000   \n",
       "1            2          AMAN   1614322387    NOIDA      M        50    2000   \n",
       "2            3          NEHA   1871614322   Mumbai      F        20    1500   \n",
       "3            4         MEGHA   1000614322  KOLKATA      F        30    3500   \n",
       "4            5        PULKIT   1614322551  Lucknow      M        25   30500   \n",
       "\n",
       "         DATE  PRODUCT ID  \n",
       "0  2021-10-05           1  \n",
       "1  2021-10-06           1  \n",
       "2  2021-10-12           5  \n",
       "3  2021-08-16           3  \n",
       "4  2021-09-16           2  "
      ]
     },
     "execution_count": 22,
     "metadata": {},
     "output_type": "execute_result"
    }
   ],
   "source": [
    "Query11 = \"\"\"select c.CUS_ID, c.CUS_NAME, c.CUS_PHONE ,c.CUS_CITY, c.CUS_GENDER,\n",
    "             o.ORD_ID, o.ORD_AMOUNT, o.ORD_DATE, o.PROD_ID  from customer c\n",
    "             LEFT OUTER JOIN order_details o ON c.CUS_ID = o.CUS_ID;\"\"\"\n",
    "\n",
    "cursorObj.execute(Query11)\n",
    "output = cursorObj.fetchall()\n",
    "\n",
    "output_df = pd.DataFrame(output, columns=['CUSTOMER ID', 'CUSTOMER NAME', 'PHONE NUMBER', 'CITY', 'GENDER', 'ORDER ID', 'AMOUNT', 'DATE', 'PRODUCT ID'])\n",
    "output_df"
   ]
  },
  {
   "cell_type": "code",
   "execution_count": 23,
   "id": "a3b88acb",
   "metadata": {},
   "outputs": [],
   "source": [
    "connection.close()"
   ]
  },
  {
   "cell_type": "code",
   "execution_count": null,
   "id": "efc0f707",
   "metadata": {},
   "outputs": [],
   "source": []
  }
 ],
 "metadata": {
  "kernelspec": {
   "display_name": "Python 3 (ipykernel)",
   "language": "python",
   "name": "python3"
  },
  "language_info": {
   "codemirror_mode": {
    "name": "ipython",
    "version": 3
   },
   "file_extension": ".py",
   "mimetype": "text/x-python",
   "name": "python",
   "nbconvert_exporter": "python",
   "pygments_lexer": "ipython3",
   "version": "3.10.9"
  }
 },
 "nbformat": 4,
 "nbformat_minor": 5
}
